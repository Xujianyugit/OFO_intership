{
 "cells": [
  {
   "cell_type": "code",
   "execution_count": 1,
   "metadata": {},
   "outputs": [
    {
     "name": "stdout",
     "output_type": "stream",
     "text": [
      "[1, 3, 5]\n",
      "[4, 5]\n"
     ]
    }
   ],
   "source": [
    "a=[1,2,3,4,5]\n",
    "print(a[::2])\n",
    "print(a[-2:])"
   ]
  },
  {
   "cell_type": "code",
   "execution_count": 2,
   "metadata": {},
   "outputs": [
    {
     "data": {
      "text/html": [
       "<div>\n",
       "<style>\n",
       "    .dataframe thead tr:only-child th {\n",
       "        text-align: right;\n",
       "    }\n",
       "\n",
       "    .dataframe thead th {\n",
       "        text-align: left;\n",
       "    }\n",
       "\n",
       "    .dataframe tbody tr th {\n",
       "        vertical-align: top;\n",
       "    }\n",
       "</style>\n",
       "<table border=\"1\" class=\"dataframe\">\n",
       "  <thead>\n",
       "    <tr style=\"text-align: right;\">\n",
       "      <th></th>\n",
       "      <th>close</th>\n",
       "      <th>high</th>\n",
       "      <th>low</th>\n",
       "      <th>open</th>\n",
       "      <th>volume</th>\n",
       "    </tr>\n",
       "    <tr>\n",
       "      <th>datetime</th>\n",
       "      <th></th>\n",
       "      <th></th>\n",
       "      <th></th>\n",
       "      <th></th>\n",
       "      <th></th>\n",
       "    </tr>\n",
       "  </thead>\n",
       "  <tbody>\n",
       "    <tr>\n",
       "      <th>2017-01-31</th>\n",
       "      <td>119.41</td>\n",
       "      <td>119.91</td>\n",
       "      <td>118.27</td>\n",
       "      <td>118.84</td>\n",
       "      <td>8602907</td>\n",
       "    </tr>\n",
       "    <tr>\n",
       "      <th>2017-02-28</th>\n",
       "      <td>118.06</td>\n",
       "      <td>118.70</td>\n",
       "      <td>117.70</td>\n",
       "      <td>118.06</td>\n",
       "      <td>12097443</td>\n",
       "    </tr>\n",
       "    <tr>\n",
       "      <th>2017-03-31</th>\n",
       "      <td>114.00</td>\n",
       "      <td>114.29</td>\n",
       "      <td>112.29</td>\n",
       "      <td>112.36</td>\n",
       "      <td>24174320</td>\n",
       "    </tr>\n",
       "    <tr>\n",
       "      <th>2017-04-30</th>\n",
       "      <td>108.30</td>\n",
       "      <td>108.38</td>\n",
       "      <td>107.38</td>\n",
       "      <td>107.88</td>\n",
       "      <td>15718209</td>\n",
       "    </tr>\n",
       "    <tr>\n",
       "      <th>2017-05-31</th>\n",
       "      <td>120.37</td>\n",
       "      <td>122.25</td>\n",
       "      <td>118.69</td>\n",
       "      <td>119.25</td>\n",
       "      <td>56619400</td>\n",
       "    </tr>\n",
       "    <tr>\n",
       "      <th>2017-06-30</th>\n",
       "      <td>118.59</td>\n",
       "      <td>119.34</td>\n",
       "      <td>118.03</td>\n",
       "      <td>119.06</td>\n",
       "      <td>17082300</td>\n",
       "    </tr>\n",
       "    <tr>\n",
       "      <th>2017-07-31</th>\n",
       "      <td>125.25</td>\n",
       "      <td>126.75</td>\n",
       "      <td>124.78</td>\n",
       "      <td>126.00</td>\n",
       "      <td>23334700</td>\n",
       "    </tr>\n",
       "    <tr>\n",
       "      <th>2017-08-31</th>\n",
       "      <td>119.16</td>\n",
       "      <td>120.37</td>\n",
       "      <td>118.69</td>\n",
       "      <td>120.19</td>\n",
       "      <td>22988000</td>\n",
       "    </tr>\n",
       "    <tr>\n",
       "      <th>2017-09-30</th>\n",
       "      <td>120.66</td>\n",
       "      <td>121.03</td>\n",
       "      <td>120.09</td>\n",
       "      <td>120.19</td>\n",
       "      <td>10955900</td>\n",
       "    </tr>\n",
       "    <tr>\n",
       "      <th>2017-10-31</th>\n",
       "      <td>118.22</td>\n",
       "      <td>118.69</td>\n",
       "      <td>117.94</td>\n",
       "      <td>118.22</td>\n",
       "      <td>9330200</td>\n",
       "    </tr>\n",
       "    <tr>\n",
       "      <th>2017-11-30</th>\n",
       "      <td>120.47</td>\n",
       "      <td>120.56</td>\n",
       "      <td>118.22</td>\n",
       "      <td>118.97</td>\n",
       "      <td>29413900</td>\n",
       "    </tr>\n",
       "  </tbody>\n",
       "</table>\n",
       "</div>"
      ],
      "text/plain": [
       "             close    high     low    open    volume\n",
       "datetime                                            \n",
       "2017-01-31  119.41  119.91  118.27  118.84   8602907\n",
       "2017-02-28  118.06  118.70  117.70  118.06  12097443\n",
       "2017-03-31  114.00  114.29  112.29  112.36  24174320\n",
       "2017-04-30  108.30  108.38  107.38  107.88  15718209\n",
       "2017-05-31  120.37  122.25  118.69  119.25  56619400\n",
       "2017-06-30  118.59  119.34  118.03  119.06  17082300\n",
       "2017-07-31  125.25  126.75  124.78  126.00  23334700\n",
       "2017-08-31  119.16  120.37  118.69  120.19  22988000\n",
       "2017-09-30  120.66  121.03  120.09  120.19  10955900\n",
       "2017-10-31  118.22  118.69  117.94  118.22   9330200\n",
       "2017-11-30  120.47  120.56  118.22  118.97  29413900"
      ]
     },
     "execution_count": 2,
     "metadata": {},
     "output_type": "execute_result"
    }
   ],
   "source": [
    "import pandas as pd\n",
    "data = pd.read_excel(\"sz50.xlsx\",sheetname=0,index_col=\"datetime\")\n",
    "a = data.resample(\"M\").last()\n",
    "a"
   ]
  },
  {
   "cell_type": "code",
   "execution_count": 3,
   "metadata": {},
   "outputs": [
    {
     "data": {
      "text/plain": [
       "datetime\n",
       "2017-01-31    119.41\n",
       "2017-02-28    118.06\n",
       "2017-03-31    114.00\n",
       "2017-04-30    108.30\n",
       "2017-05-31    120.37\n",
       "2017-06-30    118.59\n",
       "2017-07-31    125.25\n",
       "2017-08-31    119.16\n",
       "2017-09-30    120.66\n",
       "2017-10-31    118.22\n",
       "2017-11-30    120.47\n",
       "Freq: M, Name: close, dtype: float64"
      ]
     },
     "execution_count": 3,
     "metadata": {},
     "output_type": "execute_result"
    }
   ],
   "source": [
    "b = data.close.resample(\"M\").last()\n",
    "b"
   ]
  },
  {
   "cell_type": "code",
   "execution_count": null,
   "metadata": {
    "collapsed": true
   },
   "outputs": [],
   "source": []
  },
  {
   "cell_type": "code",
   "execution_count": null,
   "metadata": {
    "collapsed": true
   },
   "outputs": [],
   "source": [
    "import talib as ta\n",
    "CCIQ = ta.CCI(data1.high,data1.low,data1.close,timeperiod=10).dropna()\n",
    "CCIQ.tail()"
   ]
  },
  {
   "cell_type": "code",
   "execution_count": null,
   "metadata": {
    "collapsed": true
   },
   "outputs": [],
   "source": []
  },
  {
   "cell_type": "code",
   "execution_count": null,
   "metadata": {
    "collapsed": true
   },
   "outputs": [],
   "source": []
  },
  {
   "cell_type": "code",
   "execution_count": null,
   "metadata": {
    "collapsed": true
   },
   "outputs": [],
   "source": []
  }
 ],
 "metadata": {
  "kernelspec": {
   "display_name": "Python 3",
   "language": "python",
   "name": "python3"
  },
  "language_info": {
   "codemirror_mode": {
    "name": "ipython",
    "version": 3
   },
   "file_extension": ".py",
   "mimetype": "text/x-python",
   "name": "python",
   "nbconvert_exporter": "python",
   "pygments_lexer": "ipython3",
   "version": "3.6.2"
  }
 },
 "nbformat": 4,
 "nbformat_minor": 2
}
